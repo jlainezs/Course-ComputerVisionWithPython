{
 "cells": [
  {
   "cell_type": "code",
   "id": "initial_id",
   "metadata": {
    "collapsed": true,
    "ExecuteTime": {
     "end_time": "2025-08-01T16:44:54.775039Z",
     "start_time": "2025-08-01T16:44:54.727582Z"
    }
   },
   "source": "import numpy as np",
   "outputs": [],
   "execution_count": 1
  },
  {
   "metadata": {
    "ExecuteTime": {
     "end_time": "2025-08-01T16:45:27.998702Z",
     "start_time": "2025-08-01T16:45:27.996455Z"
    }
   },
   "cell_type": "code",
   "source": "mylist = [1, 2, 3]",
   "id": "6d42fdf646bdeb33",
   "outputs": [],
   "execution_count": 2
  },
  {
   "metadata": {
    "ExecuteTime": {
     "end_time": "2025-08-01T16:45:35.193279Z",
     "start_time": "2025-08-01T16:45:35.188990Z"
    }
   },
   "cell_type": "code",
   "source": "type(mylist)",
   "id": "2dca93e021623135",
   "outputs": [
    {
     "data": {
      "text/plain": [
       "list"
      ]
     },
     "execution_count": 3,
     "metadata": {},
     "output_type": "execute_result"
    }
   ],
   "execution_count": 3
  },
  {
   "metadata": {
    "ExecuteTime": {
     "end_time": "2025-08-01T16:45:45.897404Z",
     "start_time": "2025-08-01T16:45:45.894467Z"
    }
   },
   "cell_type": "code",
   "source": "myarray = np.array(mylist)",
   "id": "fc053ebf0b417502",
   "outputs": [],
   "execution_count": 4
  },
  {
   "metadata": {
    "ExecuteTime": {
     "end_time": "2025-08-01T16:45:56.818569Z",
     "start_time": "2025-08-01T16:45:56.815279Z"
    }
   },
   "cell_type": "code",
   "source": "myarray",
   "id": "39cc5717832bd8e1",
   "outputs": [
    {
     "data": {
      "text/plain": [
       "array([1, 2, 3])"
      ]
     },
     "execution_count": 5,
     "metadata": {},
     "output_type": "execute_result"
    }
   ],
   "execution_count": 5
  },
  {
   "metadata": {
    "ExecuteTime": {
     "end_time": "2025-08-01T16:46:00.890744Z",
     "start_time": "2025-08-01T16:46:00.887794Z"
    }
   },
   "cell_type": "code",
   "source": "type(myarray)",
   "id": "b6b52bc9ef089cd1",
   "outputs": [
    {
     "data": {
      "text/plain": [
       "numpy.ndarray"
      ]
     },
     "execution_count": 6,
     "metadata": {},
     "output_type": "execute_result"
    }
   ],
   "execution_count": 6
  },
  {
   "metadata": {
    "ExecuteTime": {
     "end_time": "2025-08-01T16:54:46.021665Z",
     "start_time": "2025-08-01T16:54:46.017839Z"
    }
   },
   "cell_type": "code",
   "source": "np.arange(10)",
   "id": "78a16751a9008004",
   "outputs": [
    {
     "data": {
      "text/plain": [
       "array([0, 1, 2, 3, 4, 5, 6, 7, 8, 9])"
      ]
     },
     "execution_count": 7,
     "metadata": {},
     "output_type": "execute_result"
    }
   ],
   "execution_count": 7
  },
  {
   "metadata": {
    "ExecuteTime": {
     "end_time": "2025-08-01T16:55:17.793287Z",
     "start_time": "2025-08-01T16:55:17.789729Z"
    }
   },
   "cell_type": "code",
   "source": "np.arange(10, 20)",
   "id": "854eb712957d244c",
   "outputs": [
    {
     "data": {
      "text/plain": [
       "array([10, 11, 12, 13, 14, 15, 16, 17, 18, 19])"
      ]
     },
     "execution_count": 8,
     "metadata": {},
     "output_type": "execute_result"
    }
   ],
   "execution_count": 8
  },
  {
   "metadata": {
    "ExecuteTime": {
     "end_time": "2025-08-01T16:55:59.700807Z",
     "start_time": "2025-08-01T16:55:59.697559Z"
    }
   },
   "cell_type": "code",
   "source": "np.arange(10,20,4)",
   "id": "37c9223ec6c2a284",
   "outputs": [
    {
     "data": {
      "text/plain": [
       "array([10, 14, 18])"
      ]
     },
     "execution_count": 9,
     "metadata": {},
     "output_type": "execute_result"
    }
   ],
   "execution_count": 9
  },
  {
   "metadata": {
    "ExecuteTime": {
     "end_time": "2025-08-01T16:57:23.247034Z",
     "start_time": "2025-08-01T16:57:23.244001Z"
    }
   },
   "cell_type": "code",
   "source": "l = np.arange(10)",
   "id": "cb189d66066dacbc",
   "outputs": [],
   "execution_count": 10
  },
  {
   "metadata": {
    "ExecuteTime": {
     "end_time": "2025-08-01T16:57:28.796515Z",
     "start_time": "2025-08-01T16:57:28.793413Z"
    }
   },
   "cell_type": "code",
   "source": "type(l)",
   "id": "1dbe752c2551e06d",
   "outputs": [
    {
     "data": {
      "text/plain": [
       "numpy.ndarray"
      ]
     },
     "execution_count": 11,
     "metadata": {},
     "output_type": "execute_result"
    }
   ],
   "execution_count": 11
  },
  {
   "metadata": {
    "ExecuteTime": {
     "end_time": "2025-08-01T17:04:51.896609Z",
     "start_time": "2025-08-01T17:04:51.887391Z"
    }
   },
   "cell_type": "code",
   "source": [
    "np.random.seed(101)\n",
    "arr = np.random.randint(0, 100, 10)"
   ],
   "id": "11e30453d03f4b6d",
   "outputs": [],
   "execution_count": 12
  },
  {
   "metadata": {
    "ExecuteTime": {
     "end_time": "2025-08-01T17:04:55.782365Z",
     "start_time": "2025-08-01T17:04:55.779019Z"
    }
   },
   "cell_type": "code",
   "source": "arr",
   "id": "fe610767cd79e52b",
   "outputs": [
    {
     "data": {
      "text/plain": [
       "array([95, 11, 81, 70, 63, 87, 75,  9, 77, 40], dtype=int32)"
      ]
     },
     "execution_count": 13,
     "metadata": {},
     "output_type": "execute_result"
    }
   ],
   "execution_count": 13
  },
  {
   "metadata": {
    "ExecuteTime": {
     "end_time": "2025-08-01T17:07:45.918923Z",
     "start_time": "2025-08-01T17:07:45.915196Z"
    }
   },
   "cell_type": "code",
   "source": "arr.max()",
   "id": "ccd94751bdfa5bc3",
   "outputs": [
    {
     "data": {
      "text/plain": [
       "np.int32(95)"
      ]
     },
     "execution_count": 14,
     "metadata": {},
     "output_type": "execute_result"
    }
   ],
   "execution_count": 14
  },
  {
   "metadata": {
    "ExecuteTime": {
     "end_time": "2025-08-01T17:07:55.059924Z",
     "start_time": "2025-08-01T17:07:55.056675Z"
    }
   },
   "cell_type": "code",
   "source": "arr.argmax()",
   "id": "77b037e77ad3166b",
   "outputs": [
    {
     "data": {
      "text/plain": [
       "np.int64(0)"
      ]
     },
     "execution_count": 15,
     "metadata": {},
     "output_type": "execute_result"
    }
   ],
   "execution_count": 15
  },
  {
   "metadata": {
    "ExecuteTime": {
     "end_time": "2025-08-01T17:17:26.779259Z",
     "start_time": "2025-08-01T17:17:26.776377Z"
    }
   },
   "cell_type": "code",
   "source": "mat=np.arange(0,100).reshape(10,10)",
   "id": "f8f482a343ad9772",
   "outputs": [],
   "execution_count": 16
  },
  {
   "metadata": {
    "ExecuteTime": {
     "end_time": "2025-08-01T17:17:47.532995Z",
     "start_time": "2025-08-01T17:17:47.529985Z"
    }
   },
   "cell_type": "code",
   "source": "mat[:,1]",
   "id": "5b4fe54ea400e060",
   "outputs": [
    {
     "data": {
      "text/plain": [
       "array([ 1, 11, 21, 31, 41, 51, 61, 71, 81, 91])"
      ]
     },
     "execution_count": 17,
     "metadata": {},
     "output_type": "execute_result"
    }
   ],
   "execution_count": 17
  },
  {
   "metadata": {
    "ExecuteTime": {
     "end_time": "2025-08-01T17:20:03.181861Z",
     "start_time": "2025-08-01T17:20:03.178455Z"
    }
   },
   "cell_type": "code",
   "source": "mat[3,:]",
   "id": "2f1d6b6fd93cfc3b",
   "outputs": [
    {
     "data": {
      "text/plain": [
       "array([30, 31, 32, 33, 34, 35, 36, 37, 38, 39])"
      ]
     },
     "execution_count": 18,
     "metadata": {},
     "output_type": "execute_result"
    }
   ],
   "execution_count": 18
  },
  {
   "metadata": {
    "ExecuteTime": {
     "end_time": "2025-08-01T17:27:08.785849Z",
     "start_time": "2025-08-01T17:27:08.783566Z"
    }
   },
   "cell_type": "code",
   "source": "mycopy = mat.copy()",
   "id": "aa1606c813d63195",
   "outputs": [],
   "execution_count": 24
  },
  {
   "metadata": {
    "ExecuteTime": {
     "end_time": "2025-08-01T17:26:24.680524Z",
     "start_time": "2025-08-01T17:26:24.455020Z"
    }
   },
   "cell_type": "code",
   "source": "mcopy",
   "id": "45469c03ee08bc33",
   "outputs": [
    {
     "ename": "NameError",
     "evalue": "name 'mcopy' is not defined",
     "output_type": "error",
     "traceback": [
      "\u001B[31m---------------------------------------------------------------------------\u001B[39m",
      "\u001B[31mNameError\u001B[39m                                 Traceback (most recent call last)",
      "\u001B[36mCell\u001B[39m\u001B[36m \u001B[39m\u001B[32mIn[20]\u001B[39m\u001B[32m, line 1\u001B[39m\n\u001B[32m----> \u001B[39m\u001B[32m1\u001B[39m \u001B[43mmcopy\u001B[49m\n",
      "\u001B[31mNameError\u001B[39m: name 'mcopy' is not defined"
     ]
    }
   ],
   "execution_count": 20
  },
  {
   "metadata": {
    "ExecuteTime": {
     "end_time": "2025-08-01T17:27:11.015418Z",
     "start_time": "2025-08-01T17:27:11.011708Z"
    }
   },
   "cell_type": "code",
   "source": "mycopy",
   "id": "3705a1be3659ef19",
   "outputs": [
    {
     "data": {
      "text/plain": [
       "array([[ 0,  1,  2,  3,  4,  5,  6,  7,  8,  9],\n",
       "       [10, 11, 12, 13, 14, 15, 16, 17, 18, 19],\n",
       "       [20, 21, 22, 23, 24, 25, 26, 27, 28, 29],\n",
       "       [30, 31, 32, 33, 34, 35, 36, 37, 38, 39],\n",
       "       [40, 41, 42, 43, 44, 45, 46, 47, 48, 49],\n",
       "       [50, 51, 52, 53, 54, 55, 56, 57, 58, 59],\n",
       "       [60, 61, 62, 63, 64, 65, 66, 67, 68, 69],\n",
       "       [70, 71, 72, 73, 74, 75, 76, 77, 78, 79],\n",
       "       [80, 81, 82, 83, 84, 85, 86, 87, 88, 89],\n",
       "       [90, 91, 92, 93, 94, 95, 96, 97, 98, 99]])"
      ]
     },
     "execution_count": 25,
     "metadata": {},
     "output_type": "execute_result"
    }
   ],
   "execution_count": 25
  },
  {
   "metadata": {},
   "cell_type": "code",
   "outputs": [],
   "execution_count": null,
   "source": "",
   "id": "7601e66e6607db4"
  }
 ],
 "metadata": {
  "kernelspec": {
   "display_name": "Python 3",
   "language": "python",
   "name": "python3"
  },
  "language_info": {
   "codemirror_mode": {
    "name": "ipython",
    "version": 2
   },
   "file_extension": ".py",
   "mimetype": "text/x-python",
   "name": "python",
   "nbconvert_exporter": "python",
   "pygments_lexer": "ipython2",
   "version": "2.7.6"
  }
 },
 "nbformat": 4,
 "nbformat_minor": 5
}
