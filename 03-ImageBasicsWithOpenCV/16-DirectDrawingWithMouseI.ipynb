{
 "cells": [
  {
   "cell_type": "code",
   "id": "initial_id",
   "metadata": {
    "collapsed": true,
    "ExecuteTime": {
     "end_time": "2025-08-04T19:39:58.918300Z",
     "start_time": "2025-08-04T19:39:39.331609Z"
    }
   },
   "source": [
    "import cv2\n",
    "import numpy as np\n",
    "\n",
    "####################\n",
    "## Function\n",
    "####################\n",
    "\n",
    "def draw_circle(event, x, y, flags, param):\n",
    "    if event == cv2.EVENT_LBUTTONDOWN:\n",
    "        cv2.circle(img, (x, y), 100, (0, 255, 0), -1)\n",
    "    elif event == cv2.EVENT_RBUTTONDOWN:\n",
    "        cv2.circle(img, (x, y), 100, (255, 0, 0), -1)\n",
    "\n",
    "# define a named window\n",
    "cv2.namedWindow(winname='my_drawing')\n",
    "\n",
    "#connect the event with the function and the named window\n",
    "cv2.setMouseCallback('my_drawing', draw_circle)\n",
    "\n",
    "#####################\n",
    "## SHOW IMAGE\n",
    "#####################\n",
    "\n",
    "img = np.zeros((512, 512, 3), dtype=np.uint8)\n",
    "\n",
    "while True:\n",
    "    cv2.imshow('my_drawing', img)\n",
    "    if cv2.waitKey(20) & 0xFF == 27: # escape Key\n",
    "        break\n",
    "cv2.destroyAllWindows()"
   ],
   "outputs": [],
   "execution_count": 1
  },
  {
   "metadata": {},
   "cell_type": "code",
   "outputs": [],
   "execution_count": null,
   "source": "",
   "id": "1896918a48d27580"
  }
 ],
 "metadata": {
  "kernelspec": {
   "display_name": "Python 3",
   "language": "python",
   "name": "python3"
  },
  "language_info": {
   "codemirror_mode": {
    "name": "ipython",
    "version": 2
   },
   "file_extension": ".py",
   "mimetype": "text/x-python",
   "name": "python",
   "nbconvert_exporter": "python",
   "pygments_lexer": "ipython2",
   "version": "2.7.6"
  }
 },
 "nbformat": 4,
 "nbformat_minor": 5
}
