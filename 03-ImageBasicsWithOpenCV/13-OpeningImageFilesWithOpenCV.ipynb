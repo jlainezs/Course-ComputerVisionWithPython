{
 "cells": [
  {
   "metadata": {},
   "cell_type": "markdown",
   "source": [
    "## How to open an image on a notebook with OpenCV\n",
    "As seen before, we use im.read"
   ],
   "id": "adbe1906a57d4a7"
  },
  {
   "cell_type": "code",
   "id": "initial_id",
   "metadata": {
    "collapsed": true,
    "ExecuteTime": {
     "end_time": "2025-08-02T21:23:50.012476Z",
     "start_time": "2025-08-02T21:23:43.067340Z"
    }
   },
   "source": [
    "import cv2\n",
    "img = cv2.imread('../DATA/00-puppy.jpg')\n",
    "cv2.imshow('Puppy', img)\n",
    "cv2.waitKey()\n",
    "# cv2.destroyAllWindows('')"
   ],
   "outputs": [
    {
     "data": {
      "text/plain": [
       "-1"
      ]
     },
     "execution_count": 1,
     "metadata": {},
     "output_type": "execute_result"
    }
   ],
   "execution_count": 1
  }
 ],
 "metadata": {
  "kernelspec": {
   "display_name": "Python 3",
   "language": "python",
   "name": "python3"
  },
  "language_info": {
   "codemirror_mode": {
    "name": "ipython",
    "version": 2
   },
   "file_extension": ".py",
   "mimetype": "text/x-python",
   "name": "python",
   "nbconvert_exporter": "python",
   "pygments_lexer": "ipython2",
   "version": "2.7.6"
  }
 },
 "nbformat": 4,
 "nbformat_minor": 5
}
